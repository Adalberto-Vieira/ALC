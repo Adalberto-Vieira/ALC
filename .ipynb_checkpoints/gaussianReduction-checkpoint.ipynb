{
 "cells": [
  {
   "cell_type": "code",
   "execution_count": null,
   "metadata": {},
   "outputs": [],
   "source": [
    "#import numpy \n",
    "import numpy as np"
   ]
  },
  {
   "cell_type": "code",
   "execution_count": null,
   "metadata": {},
   "outputs": [],
   "source": [
    "'''\n",
    "metodo realiza o calculo da matratriz escalonada pelo metodo de gauss \n",
    "@param mArray is a a multidimensional array data represents the matrix\n",
    "that you want to the scalonate usin gauss methoed\n",
    "'''\n",
    "def calcMatriz(mArray):\n",
    "    print(mArray)\n",
    "    return mArray"
   ]
  },
  {
   "cell_type": "code",
   "execution_count": null,
   "metadata": {},
   "outputs": [],
   "source": [
    "listMatrix=[]\n",
    "listLinha=[]\n",
    "print(\"Digite o tamanho da matriz\")\n",
    "n=int(input())\n",
    "for linha in range(0, n):\n",
    "    for coluna in range(0, n+1):\n",
    "        print(f\"Digite o elemento presente na linha {linha} coluna {coluna}: \")\n",
    "        listLinha.append(int(input()))\n",
    "    listMatrix.append(listLinha)\n",
    "    listLinha=[]\n",
    "calcMatriz(np.array(listMatrix))\n",
    "    "
   ]
  },
  {
   "cell_type": "code",
   "execution_count": null,
   "metadata": {},
   "outputs": [],
   "source": []
  }
 ],
 "metadata": {
  "kernelspec": {
   "display_name": "Python 3",
   "language": "python",
   "name": "python3"
  },
  "language_info": {
   "codemirror_mode": {
    "name": "ipython",
    "version": 3
   },
   "file_extension": ".py",
   "mimetype": "text/x-python",
   "name": "python",
   "nbconvert_exporter": "python",
   "pygments_lexer": "ipython3",
   "version": "3.7.1"
  }
 },
 "nbformat": 4,
 "nbformat_minor": 2
}
