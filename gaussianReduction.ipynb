{
 "cells": [
  {
   "cell_type": "code",
   "execution_count": null,
   "metadata": {},
   "outputs": [],
   "source": [
    "import numpy as np"
   ]
  },
  {
   "cell_type": "code",
   "execution_count": null,
   "metadata": {},
   "outputs": [],
   "source": [
    "def calcMatriz(mArray):\n",
    "    return mArray"
   ]
  },
  {
   "cell_type": "code",
   "execution_count": null,
   "metadata": {},
   "outputs": [],
   "source": [
    "def userMatrixInput():\n",
    "    while (True):\n",
    "        listMatrix=[]\n",
    "        listLinha=[]\n",
    "        print(\"Digite o tamanho da matriz\")\n",
    "        n=int(input())\n",
    "        for linha in range(0, n):\n",
    "            for coluna in range(0, n+1):\n",
    "                print(f\"\\nDigite o elemento presente na linha {linha} coluna {coluna}: \")\n",
    "                listLinha.append(int(input()))\n",
    "            listMatrix.append(listLinha)\n",
    "            listLinha=[]\n",
    "        matrix=np.array(listMatrix)\n",
    "        print(\"\\nMatriz digitada\\n\")\n",
    "        print(matrix)\n",
    "        print(\"Essa é sua matriz?(s/n)\")\n",
    "        validade=input()\n",
    "        if validade == 's':\n",
    "            break\n",
    "    return matrix"
   ]
  },
  {
   "cell_type": "code",
   "execution_count": null,
   "metadata": {},
   "outputs": [],
   "source": [
    "matrizEscalonada = calcMatriz(userMatrixInput())\n",
    "print(\"A versão escalonada da sua matriz é: \")\n",
    "print(matrizEscalonada)"
   ]
  }
 ],
 "metadata": {
  "kernelspec": {
   "display_name": "Python 3",
   "language": "python",
   "name": "python3"
  },
  "language_info": {
   "codemirror_mode": {
    "name": "ipython",
    "version": 3
   },
   "file_extension": ".py",
   "mimetype": "text/x-python",
   "name": "python",
   "nbconvert_exporter": "python",
   "pygments_lexer": "ipython3",
   "version": "3.7.1"
  }
 },
 "nbformat": 4,
 "nbformat_minor": 2
}
