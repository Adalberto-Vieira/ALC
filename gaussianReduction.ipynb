{
 "cells": [
  {
   "cell_type": "markdown",
   "metadata": {},
   "source": [
    "# Algoritmo de Gauss para escalonamento de matrizes\n",
    "\n",
    "Esse projeto serve como treinamento de python para a disciplina de ALC"
   ]
  },
  {
   "cell_type": "code",
   "execution_count": null,
   "metadata": {},
   "outputs": [],
   "source": [
    "import numpy as np"
   ]
  },
  {
   "cell_type": "code",
   "execution_count": null,
   "metadata": {},
   "outputs": [],
   "source": [
    "def calcMatriz(mArray):\n",
    "    pivoX=0\n",
    "    pivoY=0\n",
    "    count=0\n",
    "    for coluna in mArray.T:\n",
    "        if np.all(coluna, 0):\n",
    "            for i in range (pivoX,mArray.shape[1]-1):\n",
    "                mArray = np.insert(mArray, i+1, calcCell(mArray, pivoX, pivoY, i),0)\n",
    "                mArray = np.delete(mArray, i+2,0)\n",
    "            pivoX+=1\n",
    "        pivoY+=1\n",
    "    return mArray"
   ]
  },
  {
   "cell_type": "code",
   "execution_count": null,
   "metadata": {},
   "outputs": [],
   "source": [
    "def calcCell(mArray, pivoX, pivoY, i):\n",
    "    resposta=[]\n",
    "    if mArray[pivoX, pivoY] >=0:\n",
    "        try:\n",
    "            resposta.append(mArray[i+1,:]-((mArray[i+1,pivoY]/mArray[pivoX,pivoY])*mArray[pivoX,:]))\n",
    "        except:\n",
    "            resposta.append(mArray[i+1,:]-mArray[pivoX,:])\n",
    "    else:\n",
    "        try:\n",
    "            resposta.append(mArray[pivoX+1,:]+((mArray[pivoX+1,pivoY]/mArray[pivoX,pivoY])*mArray[pivoX,:]))\n",
    "        except:\n",
    "            resposta.append(mArray[pivoX+1,:]+mArray[pivoX,:])\n",
    "    return resposta"
   ]
  },
  {
   "cell_type": "code",
   "execution_count": null,
   "metadata": {},
   "outputs": [],
   "source": [
    "def userMatrixInput():\n",
    "    while (True):\n",
    "        listMatrix=[]\n",
    "        listLinha=[]\n",
    "        print(\"Digite o tamanho da matriz\")\n",
    "        n=int(input())\n",
    "        for linha in range(0, n):\n",
    "            for coluna in range(0, n):\n",
    "                print(f\"\\nDigite o elemento presente na linha {linha} coluna {coluna}: \")\n",
    "                listLinha.append(int(input()))\n",
    "            listMatrix.append(listLinha)\n",
    "            listLinha=[]\n",
    "        matrix=np.array(listMatrix)\n",
    "        print(\"\\nMatriz digitada\\n\")\n",
    "        print(matrix)\n",
    "        print(\"Essa é sua matriz?(s/n)\")\n",
    "        validade=input()\n",
    "        if validade == 's':\n",
    "            break\n",
    "    return matrix"
   ]
  },
  {
   "cell_type": "code",
   "execution_count": null,
   "metadata": {},
   "outputs": [],
   "source": [
    "matrizEscalonada = calcMatriz(userMatrixInput())\n",
    "print(\"A versão escalonada da sua matriz é: \")\n",
    "print(matrizEscalonada)"
   ]
  }
 ],
 "metadata": {
  "kernelspec": {
   "display_name": "Python 3",
   "language": "python",
   "name": "python3"
  },
  "language_info": {
   "codemirror_mode": {
    "name": "ipython",
    "version": 3
   },
   "file_extension": ".py",
   "mimetype": "text/x-python",
   "name": "python",
   "nbconvert_exporter": "python",
   "pygments_lexer": "ipython3",
   "version": "3.7.1"
  }
 },
 "nbformat": 4,
 "nbformat_minor": 2
}
