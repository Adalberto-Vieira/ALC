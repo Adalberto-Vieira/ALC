{
 "cells": [
  {
   "cell_type": "code",
   "execution_count": 1,
   "metadata": {},
   "outputs": [],
   "source": [
    "#import numpy \n",
    "import numpy as np"
   ]
  },
  {
   "cell_type": "code",
   "execution_count": 5,
   "metadata": {},
   "outputs": [],
   "source": [
    "'''\n",
    "metodo realiza o calculo da matratriz escalonada pelo metodo de gauss \n",
    "@param mArray is a a multidimensional array data represents the matrix\n",
    "that you want to the scalonate usin gauss methoed\n",
    "'''\n",
    "def calcMatriz(mArray):\n",
    "    print(mArray)\n",
    "    return mArrat"
   ]
  },
  {
   "cell_type": "code",
   "execution_count": 4,
   "metadata": {},
   "outputs": [
    {
     "name": "stdout",
     "output_type": "stream",
     "text": [
      "Digite o tamanho da matriz\n",
      "3\n",
      "Digite o elemento presente na linha 0 coluna 0: \n",
      "1\n",
      "Digite o elemento presente na linha 0 coluna 1: \n",
      "2\n",
      "Digite o elemento presente na linha 0 coluna 2: \n",
      "3\n",
      "Digite o elemento presente na linha 0 coluna 3: \n",
      "4\n",
      "Digite o elemento presente na linha 1 coluna 0: \n",
      "1\n",
      "Digite o elemento presente na linha 1 coluna 1: \n",
      "2\n",
      "Digite o elemento presente na linha 1 coluna 2: \n",
      "3\n",
      "Digite o elemento presente na linha 1 coluna 3: \n",
      "4\n",
      "Digite o elemento presente na linha 2 coluna 0: \n",
      "1\n",
      "Digite o elemento presente na linha 2 coluna 1: \n",
      "2\n",
      "Digite o elemento presente na linha 2 coluna 2: \n",
      "3\n",
      "Digite o elemento presente na linha 2 coluna 3: \n",
      "4\n",
      "[[1 2 3 4]\n",
      " [1 2 3 4]\n",
      " [1 2 3 4]]\n"
     ]
    },
    {
     "ename": "NameError",
     "evalue": "name 'eArrat' is not defined",
     "output_type": "error",
     "traceback": [
      "\u001b[1;31m---------------------------------------------------------------------------\u001b[0m",
      "\u001b[1;31mNameError\u001b[0m                                 Traceback (most recent call last)",
      "\u001b[1;32m<ipython-input-4-7e8df778400a>\u001b[0m in \u001b[0;36m<module>\u001b[1;34m\u001b[0m\n\u001b[0;32m      9\u001b[0m     \u001b[0mlistMatrix\u001b[0m\u001b[1;33m.\u001b[0m\u001b[0mappend\u001b[0m\u001b[1;33m(\u001b[0m\u001b[0mlistLinha\u001b[0m\u001b[1;33m)\u001b[0m\u001b[1;33m\u001b[0m\u001b[1;33m\u001b[0m\u001b[0m\n\u001b[0;32m     10\u001b[0m     \u001b[0mlistLinha\u001b[0m\u001b[1;33m=\u001b[0m\u001b[1;33m[\u001b[0m\u001b[1;33m]\u001b[0m\u001b[1;33m\u001b[0m\u001b[1;33m\u001b[0m\u001b[0m\n\u001b[1;32m---> 11\u001b[1;33m \u001b[0mcalcMatriz\u001b[0m\u001b[1;33m(\u001b[0m\u001b[0mnp\u001b[0m\u001b[1;33m.\u001b[0m\u001b[0marray\u001b[0m\u001b[1;33m(\u001b[0m\u001b[0mlistMatrix\u001b[0m\u001b[1;33m)\u001b[0m\u001b[1;33m)\u001b[0m\u001b[1;33m\u001b[0m\u001b[1;33m\u001b[0m\u001b[0m\n\u001b[0m\u001b[0;32m     12\u001b[0m \u001b[1;33m\u001b[0m\u001b[0m\n",
      "\u001b[1;32m<ipython-input-3-0d7fca12574a>\u001b[0m in \u001b[0;36mcalcMatriz\u001b[1;34m(mArray)\u001b[0m\n\u001b[0;32m      6\u001b[0m \u001b[1;32mdef\u001b[0m \u001b[0mcalcMatriz\u001b[0m\u001b[1;33m(\u001b[0m\u001b[0mmArray\u001b[0m\u001b[1;33m)\u001b[0m\u001b[1;33m:\u001b[0m\u001b[1;33m\u001b[0m\u001b[1;33m\u001b[0m\u001b[0m\n\u001b[0;32m      7\u001b[0m     \u001b[0mprint\u001b[0m\u001b[1;33m(\u001b[0m\u001b[0mmArray\u001b[0m\u001b[1;33m)\u001b[0m\u001b[1;33m\u001b[0m\u001b[1;33m\u001b[0m\u001b[0m\n\u001b[1;32m----> 8\u001b[1;33m     \u001b[1;32mreturn\u001b[0m \u001b[0meArrat\u001b[0m\u001b[1;33m\u001b[0m\u001b[1;33m\u001b[0m\u001b[0m\n\u001b[0m",
      "\u001b[1;31mNameError\u001b[0m: name 'eArrat' is not defined"
     ]
    }
   ],
   "source": [
    "listMatrix=[]\n",
    "listLinha=[]\n",
    "print(\"Digite o tamanho da matriz\")\n",
    "n=int(input())\n",
    "for linha in range(0, n):\n",
    "    for coluna in range(0, n+1):\n",
    "        print(f\"Digite o elemento presente na linha {linha} coluna {coluna}: \")\n",
    "        listLinha.append(int(input()))\n",
    "    listMatrix.append(listLinha)\n",
    "    listLinha=[]\n",
    "calcMatriz(np.array(listMatrix))\n",
    "    "
   ]
  },
  {
   "cell_type": "code",
   "execution_count": null,
   "metadata": {},
   "outputs": [],
   "source": []
  }
 ],
 "metadata": {
  "kernelspec": {
   "display_name": "Python 3",
   "language": "python",
   "name": "python3"
  },
  "language_info": {
   "codemirror_mode": {
    "name": "ipython",
    "version": 3
   },
   "file_extension": ".py",
   "mimetype": "text/x-python",
   "name": "python",
   "nbconvert_exporter": "python",
   "pygments_lexer": "ipython3",
   "version": "3.7.1"
  }
 },
 "nbformat": 4,
 "nbformat_minor": 2
}
