{
 "cells": [
  {
   "cell_type": "markdown",
   "metadata": {},
   "source": [
    "# Algoritmo de Gauss para escalonamento de matrizes\n",
    "\n",
    "Esse projeto serve como treinamento de python para a disciplina de ALC"
   ]
  },
  {
   "cell_type": "code",
   "execution_count": 4,
   "metadata": {},
   "outputs": [],
   "source": [
    "import numpy as np"
   ]
  },
  {
   "cell_type": "markdown",
   "metadata": {},
   "source": [
    "Essa função itera atravez das colunas da matriz "
   ]
  },
  {
   "cell_type": "code",
   "execution_count": 5,
   "metadata": {},
   "outputs": [],
   "source": [
    "def calcMatriz(mArray):\n",
    "    pivoX=0\n",
    "    pivoY=0\n",
    "    count=0\n",
    "    for coluna in mArray.T:\n",
    "        if np.all(coluna, 0):\n",
    "            for i in range (pivoX,mArray.shape[1]-1):\n",
    "                mArray = np.insert(mArray, i+1, calcCell(mArray, pivoX, pivoY, i),0)\n",
    "                mArray = np.delete(mArray, i+2,0)\n",
    "            pivoX+=1\n",
    "        pivoY+=1\n",
    "    return mArray"
   ]
  },
  {
   "cell_type": "code",
   "execution_count": null,
   "metadata": {},
   "outputs": [],
   "source": [
    "Essa função faz o calculo para zerar o elemento abaixo do pivo"
   ]
  },
  {
   "cell_type": "code",
   "execution_count": 6,
   "metadata": {},
   "outputs": [],
   "source": [
    "def calcCell(mArray, pivoX, pivoY, i):\n",
    "    if mArray[i+1,pivoY] == 0:\n",
    "        return mArray[i+1:]\n",
    "    resposta=[]\n",
    "    if mArray[pivoX, pivoY] >=0:\n",
    "        try:\n",
    "            resposta.append(mArray[i+1,:]-((mArray[i+1,pivoY]/mArray[pivoX,pivoY])*mArray[pivoX,:]))\n",
    "        except:\n",
    "            resposta.append(mArray[i+1,:]-mArray[pivoX,:])\n",
    "    else:\n",
    "        try:\n",
    "            resposta.append(mArray[pivoX+1,:]+((mArray[pivoX+1,pivoY]/mArray[pivoX,pivoY])*mArray[pivoX,:]))\n",
    "        except:\n",
    "            resposta.append(mArray[pivoX+1,:]+mArray[pivoX,:])\n",
    "    return resposta"
   ]
  },
  {
   "cell_type": "code",
   "execution_count": null,
   "metadata": {},
   "outputs": [],
   "source": [
    "Essa função recebe a matriz através do input do usuario"
   ]
  },
  {
   "cell_type": "code",
   "execution_count": 7,
   "metadata": {},
   "outputs": [],
   "source": [
    "def userMatrixInput():\n",
    "    while (True):\n",
    "        listMatrix=[]\n",
    "        listLinha=[]\n",
    "        print(\"Digite o tamanho da matriz\")\n",
    "        n=int(input())\n",
    "        for linha in range(0, n):\n",
    "            for coluna in range(0, n):\n",
    "                print(f\"\\nDigite o elemento presente na linha {linha} coluna {coluna}: \")\n",
    "                listLinha.append(int(input()))\n",
    "            listMatrix.append(listLinha)\n",
    "            listLinha=[]\n",
    "        matrix=np.array(listMatrix)\n",
    "        print(\"\\nMatriz digitada\\n\")\n",
    "        print(matrix)\n",
    "        print(\"Essa é sua matriz?(s/n)\")\n",
    "        validade=input()\n",
    "        if validade == 's':\n",
    "            break\n",
    "    return matrix"
   ]
  },
  {
   "cell_type": "code",
   "execution_count": null,
   "metadata": {},
   "outputs": [],
   "source": []
  },
  {
   "cell_type": "code",
   "execution_count": 8,
   "metadata": {},
   "outputs": [
    {
     "name": "stdout",
     "output_type": "stream",
     "text": [
      "Digite o tamanho da matriz\n",
      "3\n",
      "\n",
      "Digite o elemento presente na linha 0 coluna 0: \n",
      "3\n",
      "\n",
      "Digite o elemento presente na linha 0 coluna 1: \n",
      "1\n",
      "\n",
      "Digite o elemento presente na linha 0 coluna 2: \n",
      "1\n",
      "\n",
      "Digite o elemento presente na linha 1 coluna 0: \n",
      "1\n",
      "\n",
      "Digite o elemento presente na linha 1 coluna 1: \n",
      "1\n",
      "\n",
      "Digite o elemento presente na linha 1 coluna 2: \n",
      "2\n",
      "\n",
      "Digite o elemento presente na linha 2 coluna 0: \n",
      "3\n",
      "\n",
      "Digite o elemento presente na linha 2 coluna 1: \n",
      "1\n",
      "\n",
      "Digite o elemento presente na linha 2 coluna 2: \n",
      "3\n",
      "\n",
      "Matriz digitada\n",
      "\n",
      "[[3 1 1]\n",
      " [1 1 2]\n",
      " [3 1 3]]\n",
      "Essa é sua matriz?(s/n)\n",
      "n\n",
      "Digite o tamanho da matriz\n",
      "3\n",
      "\n",
      "Digite o elemento presente na linha 0 coluna 0: \n",
      "1\n",
      "\n",
      "Digite o elemento presente na linha 0 coluna 1: \n",
      "1\n",
      "\n",
      "Digite o elemento presente na linha 0 coluna 2: \n",
      "1\n",
      "\n",
      "Digite o elemento presente na linha 1 coluna 0: \n",
      "1\n",
      "\n",
      "Digite o elemento presente na linha 1 coluna 1: \n",
      "2\n",
      "\n",
      "Digite o elemento presente na linha 1 coluna 2: \n",
      "3\n",
      "\n",
      "Digite o elemento presente na linha 2 coluna 0: \n",
      "1\n",
      "\n",
      "Digite o elemento presente na linha 2 coluna 1: \n",
      "3\n",
      "\n",
      "Digite o elemento presente na linha 2 coluna 2: \n",
      "4\n",
      "\n",
      "Matriz digitada\n",
      "\n",
      "[[1 1 1]\n",
      " [1 2 3]\n",
      " [1 3 4]]\n",
      "Essa é sua matriz?(s/n)\n",
      "s\n",
      "A versão escalonada da sua matriz é: \n",
      "[[ 1  1  1]\n",
      " [ 0  1  2]\n",
      " [ 0  0 -1]]\n"
     ]
    }
   ],
   "source": [
    "matrizEscalonada = calcMatriz(userMatrixInput())\n",
    "print(\"A versão escalonada da sua matriz é: \")\n",
    "print(matrizEscalonada)"
   ]
  },
  {
   "cell_type": "code",
   "execution_count": null,
   "metadata": {},
   "outputs": [],
   "source": []
  },
  {
   "cell_type": "code",
   "execution_count": null,
   "metadata": {},
   "outputs": [],
   "source": []
  }
 ],
 "metadata": {
  "kernelspec": {
   "display_name": "Python 3",
   "language": "python",
   "name": "python3"
  },
  "language_info": {
   "codemirror_mode": {
    "name": "ipython",
    "version": 3
   },
   "file_extension": ".py",
   "mimetype": "text/x-python",
   "name": "python",
   "nbconvert_exporter": "python",
   "pygments_lexer": "ipython3",
   "version": "3.7.1"
  }
 },
 "nbformat": 4,
 "nbformat_minor": 2
}
